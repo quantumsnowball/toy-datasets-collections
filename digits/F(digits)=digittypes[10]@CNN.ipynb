{
 "cells": [
  {
   "cell_type": "markdown",
   "metadata": {},
   "source": [
    "# Imports"
   ]
  },
  {
   "cell_type": "code",
   "execution_count": 1,
   "metadata": {},
   "outputs": [],
   "source": [
    "import numpy as np\n",
    "import pandas as pd\n",
    "import matplotlib.pyplot as plt\n",
    "from sklearn.datasets import load_digits\n",
    "from sklearn.model_selection import train_test_split\n",
    "import tensorflow as tf\n",
    "from tensorflow.keras.models import Sequential\n",
    "from tensorflow.keras.layers import Dense, Flatten, Conv2D, MaxPooling2D, Dropout\n",
    "from tensorflow.keras.callbacks import EarlyStopping\n",
    "from sklearn.metrics import confusion_matrix, ConfusionMatrixDisplay"
   ]
  },
  {
   "cell_type": "markdown",
   "metadata": {},
   "source": [
    "# Load Data"
   ]
  },
  {
   "cell_type": "code",
   "execution_count": 2,
   "metadata": {},
   "outputs": [],
   "source": [
    "dataset = load_digits()"
   ]
  },
  {
   "cell_type": "code",
   "execution_count": 3,
   "metadata": {},
   "outputs": [],
   "source": [
    "X, y = dataset['data'], dataset['target']"
   ]
  },
  {
   "cell_type": "code",
   "execution_count": 4,
   "metadata": {},
   "outputs": [
    {
     "data": {
      "text/plain": [
       "((1797, 64), (1797,))"
      ]
     },
     "execution_count": 4,
     "metadata": {},
     "output_type": "execute_result"
    }
   ],
   "source": [
    "X.shape, y.shape"
   ]
  },
  {
   "cell_type": "code",
   "execution_count": 5,
   "metadata": {},
   "outputs": [],
   "source": [
    "X_train, X_test, y_train, y_test = train_test_split(X, y)"
   ]
  },
  {
   "cell_type": "code",
   "execution_count": 6,
   "metadata": {},
   "outputs": [
    {
     "name": "stdout",
     "output_type": "stream",
     "text": [
      "[(1347, 64), (450, 64), (1347,), (450,)]\n"
     ]
    }
   ],
   "source": [
    "print([item.shape for item in (X_train, X_test, y_train, y_test)])"
   ]
  },
  {
   "cell_type": "markdown",
   "metadata": {},
   "source": [
    "# Preview"
   ]
  },
  {
   "cell_type": "code",
   "execution_count": 7,
   "metadata": {},
   "outputs": [
    {
     "name": "stdout",
     "output_type": "stream",
     "text": [
      ".. _digits_dataset:\n",
      "\n",
      "Optical recognition of handwritten digits dataset\n",
      "--------------------------------------------------\n",
      "\n",
      "**Data Set Characteristics:**\n",
      "\n",
      "    :Number of Instances: 5620\n",
      "    :Number of Attributes: 64\n",
      "    :Attribute Information: 8x8 image of integer pixels in the range 0..16.\n",
      "    :Missing Attribute Values: None\n",
      "    :Creator: E. Alpaydin (alpaydin '@' boun.edu.tr)\n",
      "    :Date: July; 1998\n",
      "\n",
      "This is a copy of the test set of the UCI ML hand-written digits datasets\n",
      "https://archive.ics.uci.edu/ml/datasets/Optical+Recognition+of+Handwritten+Digits\n",
      "\n",
      "The data set contains images of hand-written digits: 10 classes where\n",
      "each class refers to a digit.\n",
      "\n",
      "Preprocessing programs made available by NIST were used to extract\n",
      "normalized bitmaps of handwritten digits from a preprinted form. From a\n",
      "total of 43 people, 30 contributed to the training set and different 13\n",
      "to the test set. 32x32 bitmaps are divided into nonoverlapping blocks of\n",
      "4x4 and the number of on pixels are counted in each block. This generates\n",
      "an input matrix of 8x8 where each element is an integer in the range\n",
      "0..16. This reduces dimensionality and gives invariance to small\n",
      "distortions.\n",
      "\n",
      "For info on NIST preprocessing routines, see M. D. Garris, J. L. Blue, G.\n",
      "T. Candela, D. L. Dimmick, J. Geist, P. J. Grother, S. A. Janet, and C.\n",
      "L. Wilson, NIST Form-Based Handprint Recognition System, NISTIR 5469,\n",
      "1994.\n",
      "\n",
      ".. topic:: References\n",
      "\n",
      "  - C. Kaynak (1995) Methods of Combining Multiple Classifiers and Their\n",
      "    Applications to Handwritten Digit Recognition, MSc Thesis, Institute of\n",
      "    Graduate Studies in Science and Engineering, Bogazici University.\n",
      "  - E. Alpaydin, C. Kaynak (1998) Cascading Classifiers, Kybernetika.\n",
      "  - Ken Tang and Ponnuthurai N. Suganthan and Xi Yao and A. Kai Qin.\n",
      "    Linear dimensionalityreduction using relevance weighted LDA. School of\n",
      "    Electrical and Electronic Engineering Nanyang Technological University.\n",
      "    2005.\n",
      "  - Claudio Gentile. A New Approximate Maximal Margin Classification\n",
      "    Algorithm. NIPS. 2000.\n"
     ]
    }
   ],
   "source": [
    "print(dataset.DESCR)"
   ]
  },
  {
   "cell_type": "code",
   "execution_count": 8,
   "metadata": {},
   "outputs": [
    {
     "data": {
      "text/plain": [
       "array([ 0.,  0.,  3., 12., 16., 14.,  0.,  0.,  0.,  3., 15., 16., 15.,\n",
       "       14.,  0.,  0.,  0.,  3., 12.,  1., 15.,  8.,  0.,  0.,  0.,  0.,\n",
       "        0.,  9., 16.,  8.,  0.,  0.,  0.,  0.,  0., 10., 16., 16.,  8.,\n",
       "        0.,  0.,  0.,  0.,  2.,  5., 13.,  8.,  0.,  0.,  0.,  2., 11.,\n",
       "       11., 15.,  5.,  0.,  0.,  0.,  3., 16., 16.,  9.,  0.,  0.])"
      ]
     },
     "execution_count": 8,
     "metadata": {},
     "output_type": "execute_result"
    }
   ],
   "source": [
    "X_train[25]"
   ]
  },
  {
   "cell_type": "code",
   "execution_count": 9,
   "metadata": {},
   "outputs": [
    {
     "data": {
      "text/plain": [
       "array([3, 1, 6, ..., 1, 1, 7])"
      ]
     },
     "execution_count": 9,
     "metadata": {},
     "output_type": "execute_result"
    }
   ],
   "source": [
    "y_train"
   ]
  },
  {
   "cell_type": "markdown",
   "metadata": {},
   "source": [
    "# Preprocessing"
   ]
  },
  {
   "cell_type": "code",
   "execution_count": 10,
   "metadata": {},
   "outputs": [
    {
     "data": {
      "text/plain": [
       "(1347, 64)"
      ]
     },
     "execution_count": 10,
     "metadata": {},
     "output_type": "execute_result"
    }
   ],
   "source": [
    "X_train.shape"
   ]
  },
  {
   "cell_type": "code",
   "execution_count": 11,
   "metadata": {},
   "outputs": [],
   "source": [
    "X_train, X_test = X_train.reshape(-1, 8, 8, 1), X_test.reshape(-1, 8, 8, 1)"
   ]
  },
  {
   "cell_type": "code",
   "execution_count": 12,
   "metadata": {},
   "outputs": [
    {
     "data": {
      "text/plain": [
       "((1347, 8, 8, 1), (450, 8, 8, 1))"
      ]
     },
     "execution_count": 12,
     "metadata": {},
     "output_type": "execute_result"
    }
   ],
   "source": [
    "X_train.shape, X_test.shape"
   ]
  },
  {
   "cell_type": "code",
   "execution_count": 13,
   "metadata": {},
   "outputs": [],
   "source": [
    "X_train, X_test = X_train/16, X_test/16"
   ]
  },
  {
   "cell_type": "code",
   "execution_count": 14,
   "metadata": {},
   "outputs": [
    {
     "data": {
      "text/plain": [
       "<matplotlib.colorbar.Colorbar at 0x1ce49e6e3a0>"
      ]
     },
     "execution_count": 14,
     "metadata": {},
     "output_type": "execute_result"
    },
    {
     "data": {
      "image/png": "[encoded data removed]",
      "text/plain": [
       "<Figure size 432x288 with 2 Axes>"
      ]
     },
     "metadata": {
      "needs_background": "light"
     },
     "output_type": "display_data"
    }
   ],
   "source": [
    "plt.imshow(X_train[0], cmap='copper')\n",
    "plt.colorbar()"
   ]
  },
  {
   "cell_type": "code",
   "execution_count": 15,
   "metadata": {},
   "outputs": [],
   "source": [
    "y_train, y_test = (tf.keras.utils.to_categorical(y) for y in (y_train, y_test))"
   ]
  },
  {
   "cell_type": "code",
   "execution_count": 16,
   "metadata": {},
   "outputs": [
    {
     "data": {
      "text/plain": [
       "<matplotlib.colorbar.Colorbar at 0x1ce49d661c0>"
      ]
     },
     "execution_count": 16,
     "metadata": {},
     "output_type": "execute_result"
    },
    {
     "data": {
      "image/png": "[encoded data removed]",
      "text/plain": [
       "<Figure size 432x288 with 2 Axes>"
      ]
     },
     "metadata": {
      "needs_background": "light"
     },
     "output_type": "display_data"
    }
   ],
   "source": [
    "plt.imshow(y_train[:5], cmap='copper')\n",
    "plt.colorbar()"
   ]
  },
  {
   "cell_type": "markdown",
   "metadata": {},
   "source": [
    "# Model"
   ]
  },
  {
   "cell_type": "code",
   "execution_count": 17,
   "metadata": {},
   "outputs": [],
   "source": [
    "input_shape = X_train.shape[1:]\n",
    "num_classes = y_train.shape[1]"
   ]
  },
  {
   "cell_type": "code",
   "execution_count": 18,
   "metadata": {},
   "outputs": [],
   "source": [
    "model = Sequential([\n",
    "    Conv2D(32, kernel_size=(3, 3), activation='relu', input_shape=input_shape),\n",
    "    MaxPooling2D((2, 2)),\n",
    "    Conv2D(64, kernel_size=(3, 3), activation='relu'),\n",
    "    Flatten(), \n",
    "    Dropout(0.2),\n",
    "    Dense(128, activation='relu'),\n",
    "    Dropout(0.2),\n",
    "    Dense(num_classes, activation='softmax'),    \n",
    "])"
   ]
  },
  {
   "cell_type": "code",
   "execution_count": 19,
   "metadata": {},
   "outputs": [],
   "source": [
    "model.compile(loss=tf.keras.losses.categorical_crossentropy,\n",
    "              optimizer='adam',\n",
    "              metrics=['accuracy'])"
   ]
  },
  {
   "cell_type": "code",
   "execution_count": 20,
   "metadata": {},
   "outputs": [
    {
     "name": "stdout",
     "output_type": "stream",
     "text": [
      "Model: \"sequential\"\n",
      "_________________________________________________________________\n",
      "Layer (type)                 Output Shape              Param #   \n",
      "=================================================================\n",
      "conv2d (Conv2D)              (None, 6, 6, 32)          320       \n",
      "_________________________________________________________________\n",
      "max_pooling2d (MaxPooling2D) (None, 3, 3, 32)          0         \n",
      "_________________________________________________________________\n",
      "conv2d_1 (Conv2D)            (None, 1, 1, 64)          18496     \n",
      "_________________________________________________________________\n",
      "flatten (Flatten)            (None, 64)                0         \n",
      "_________________________________________________________________\n",
      "dropout (Dropout)            (None, 64)                0         \n",
      "_________________________________________________________________\n",
      "dense (Dense)                (None, 128)               8320      \n",
      "_________________________________________________________________\n",
      "dropout_1 (Dropout)          (None, 128)               0         \n",
      "_________________________________________________________________\n",
      "dense_1 (Dense)              (None, 10)                1290      \n",
      "=================================================================\n",
      "Total params: 28,426\n",
      "Trainable params: 28,426\n",
      "Non-trainable params: 0\n",
      "_________________________________________________________________\n"
     ]
    }
   ],
   "source": [
    "model.summary()"
   ]
  },
  {
   "cell_type": "code",
   "execution_count": 21,
   "metadata": {},
   "outputs": [
    {
     "name": "stdout",
     "output_type": "stream",
     "text": [
      "Epoch 1/1000\n",
      "17/17 [==============================] - 0s 25ms/step - loss: 2.2571 - accuracy: 0.2228 - val_loss: 2.1853 - val_accuracy: 0.5333\n",
      "Epoch 2/1000\n",
      "17/17 [==============================] - 0s 6ms/step - loss: 2.0786 - accuracy: 0.4011 - val_loss: 1.8829 - val_accuracy: 0.5148\n",
      "Epoch 3/1000\n",
      "17/17 [==============================] - 0s 6ms/step - loss: 1.7253 - accuracy: 0.5265 - val_loss: 1.3471 - val_accuracy: 0.7000\n",
      "Epoch 4/1000\n",
      "17/17 [==============================] - 0s 6ms/step - loss: 1.2460 - accuracy: 0.6462 - val_loss: 0.8657 - val_accuracy: 0.8222\n",
      "Epoch 5/1000\n",
      "17/17 [==============================] - 0s 6ms/step - loss: 0.9558 - accuracy: 0.6945 - val_loss: 0.6448 - val_accuracy: 0.8370\n",
      "Epoch 6/1000\n",
      "17/17 [==============================] - 0s 6ms/step - loss: 0.7645 - accuracy: 0.7567 - val_loss: 0.4516 - val_accuracy: 0.9111\n",
      "Epoch 7/1000\n",
      "17/17 [==============================] - 0s 6ms/step - loss: 0.6490 - accuracy: 0.8115 - val_loss: 0.3948 - val_accuracy: 0.8926\n",
      "Epoch 8/1000\n",
      "17/17 [==============================] - 0s 6ms/step - loss: 0.5401 - accuracy: 0.8301 - val_loss: 0.2971 - val_accuracy: 0.9370\n",
      "Epoch 9/1000\n",
      "17/17 [==============================] - 0s 6ms/step - loss: 0.4601 - accuracy: 0.8598 - val_loss: 0.2693 - val_accuracy: 0.9481\n",
      "Epoch 10/1000\n",
      "17/17 [==============================] - 0s 6ms/step - loss: 0.4185 - accuracy: 0.8617 - val_loss: 0.2361 - val_accuracy: 0.9481\n",
      "Epoch 11/1000\n",
      "17/17 [==============================] - 0s 6ms/step - loss: 0.4115 - accuracy: 0.8682 - val_loss: 0.2103 - val_accuracy: 0.9481\n",
      "Epoch 12/1000\n",
      "17/17 [==============================] - 0s 6ms/step - loss: 0.3517 - accuracy: 0.8812 - val_loss: 0.1871 - val_accuracy: 0.9556\n",
      "Epoch 13/1000\n",
      "17/17 [==============================] - 0s 6ms/step - loss: 0.3377 - accuracy: 0.8886 - val_loss: 0.1621 - val_accuracy: 0.9630\n",
      "Epoch 14/1000\n",
      "17/17 [==============================] - 0s 6ms/step - loss: 0.2882 - accuracy: 0.9081 - val_loss: 0.1492 - val_accuracy: 0.9593\n",
      "Epoch 15/1000\n",
      "17/17 [==============================] - 0s 6ms/step - loss: 0.2895 - accuracy: 0.9099 - val_loss: 0.1345 - val_accuracy: 0.9667\n",
      "Epoch 16/1000\n",
      "17/17 [==============================] - 0s 6ms/step - loss: 0.2497 - accuracy: 0.9127 - val_loss: 0.1366 - val_accuracy: 0.9556\n",
      "Epoch 17/1000\n",
      "17/17 [==============================] - 0s 6ms/step - loss: 0.2411 - accuracy: 0.9211 - val_loss: 0.1139 - val_accuracy: 0.9852\n",
      "Epoch 18/1000\n",
      "17/17 [==============================] - 0s 6ms/step - loss: 0.2286 - accuracy: 0.9266 - val_loss: 0.1151 - val_accuracy: 0.9667\n",
      "Epoch 19/1000\n",
      "17/17 [==============================] - 0s 6ms/step - loss: 0.1966 - accuracy: 0.9359 - val_loss: 0.1070 - val_accuracy: 0.9741\n",
      "Epoch 20/1000\n",
      "17/17 [==============================] - 0s 6ms/step - loss: 0.2135 - accuracy: 0.9359 - val_loss: 0.1012 - val_accuracy: 0.9667\n",
      "Epoch 21/1000\n",
      "17/17 [==============================] - 0s 7ms/step - loss: 0.2053 - accuracy: 0.9313 - val_loss: 0.1053 - val_accuracy: 0.9704\n",
      "Epoch 22/1000\n",
      "17/17 [==============================] - 0s 7ms/step - loss: 0.1932 - accuracy: 0.9350 - val_loss: 0.0960 - val_accuracy: 0.9815\n",
      "Epoch 23/1000\n",
      "17/17 [==============================] - 0s 5ms/step - loss: 0.1581 - accuracy: 0.9536 - val_loss: 0.0853 - val_accuracy: 0.9815\n",
      "Epoch 24/1000\n",
      "17/17 [==============================] - 0s 6ms/step - loss: 0.1722 - accuracy: 0.9434 - val_loss: 0.0760 - val_accuracy: 0.9852\n",
      "Epoch 25/1000\n",
      "17/17 [==============================] - 0s 6ms/step - loss: 0.1520 - accuracy: 0.9554 - val_loss: 0.0761 - val_accuracy: 0.9852\n",
      "Epoch 26/1000\n",
      "17/17 [==============================] - 0s 6ms/step - loss: 0.1541 - accuracy: 0.9545 - val_loss: 0.0755 - val_accuracy: 0.9889\n",
      "Epoch 27/1000\n",
      "17/17 [==============================] - 0s 6ms/step - loss: 0.1299 - accuracy: 0.9526 - val_loss: 0.0750 - val_accuracy: 0.9704\n",
      "Epoch 28/1000\n",
      "17/17 [==============================] - 0s 6ms/step - loss: 0.1170 - accuracy: 0.9703 - val_loss: 0.0579 - val_accuracy: 0.9889\n",
      "Epoch 29/1000\n",
      "17/17 [==============================] - 0s 6ms/step - loss: 0.1282 - accuracy: 0.9564 - val_loss: 0.0603 - val_accuracy: 0.9889\n",
      "Epoch 30/1000\n",
      "17/17 [==============================] - 0s 5ms/step - loss: 0.1143 - accuracy: 0.9629 - val_loss: 0.0602 - val_accuracy: 0.9889\n",
      "Epoch 31/1000\n",
      "17/17 [==============================] - 0s 6ms/step - loss: 0.1027 - accuracy: 0.9666 - val_loss: 0.0582 - val_accuracy: 0.9889\n",
      "Epoch 32/1000\n",
      "17/17 [==============================] - 0s 6ms/step - loss: 0.1157 - accuracy: 0.9591 - val_loss: 0.0621 - val_accuracy: 0.9889\n",
      "Epoch 33/1000\n",
      "17/17 [==============================] - 0s 6ms/step - loss: 0.1012 - accuracy: 0.9712 - val_loss: 0.0516 - val_accuracy: 0.9852\n",
      "Epoch 34/1000\n",
      "17/17 [==============================] - 0s 6ms/step - loss: 0.0983 - accuracy: 0.9675 - val_loss: 0.0560 - val_accuracy: 0.9852\n",
      "Epoch 35/1000\n",
      "17/17 [==============================] - 0s 6ms/step - loss: 0.0812 - accuracy: 0.9740 - val_loss: 0.0453 - val_accuracy: 0.9889\n",
      "Epoch 36/1000\n",
      "17/17 [==============================] - 0s 6ms/step - loss: 0.0834 - accuracy: 0.9759 - val_loss: 0.0863 - val_accuracy: 0.9667\n",
      "Epoch 37/1000\n",
      "17/17 [==============================] - 0s 6ms/step - loss: 0.0812 - accuracy: 0.9777 - val_loss: 0.0464 - val_accuracy: 0.9926\n",
      "Epoch 38/1000\n",
      "17/17 [==============================] - 0s 6ms/step - loss: 0.0810 - accuracy: 0.9805 - val_loss: 0.0498 - val_accuracy: 0.9889\n",
      "Epoch 39/1000\n",
      "17/17 [==============================] - 0s 6ms/step - loss: 0.0712 - accuracy: 0.9721 - val_loss: 0.0494 - val_accuracy: 0.9926\n",
      "Epoch 40/1000\n",
      "17/17 [==============================] - 0s 6ms/step - loss: 0.0766 - accuracy: 0.9759 - val_loss: 0.0491 - val_accuracy: 0.9852\n",
      "Epoch 41/1000\n",
      "17/17 [==============================] - 0s 8ms/step - loss: 0.0658 - accuracy: 0.9768 - val_loss: 0.0597 - val_accuracy: 0.9889\n",
      "Epoch 42/1000\n",
      "17/17 [==============================] - 0s 6ms/step - loss: 0.0783 - accuracy: 0.9759 - val_loss: 0.0423 - val_accuracy: 0.9889\n",
      "Epoch 43/1000\n",
      "17/17 [==============================] - 0s 6ms/step - loss: 0.0683 - accuracy: 0.9814 - val_loss: 0.0493 - val_accuracy: 0.9852\n",
      "Epoch 44/1000\n",
      "17/17 [==============================] - 0s 6ms/step - loss: 0.0742 - accuracy: 0.9740 - val_loss: 0.0495 - val_accuracy: 0.9926\n",
      "Epoch 45/1000\n",
      "17/17 [==============================] - 0s 5ms/step - loss: 0.0757 - accuracy: 0.9768 - val_loss: 0.0422 - val_accuracy: 0.9852\n",
      "Epoch 46/1000\n",
      "17/17 [==============================] - 0s 6ms/step - loss: 0.0725 - accuracy: 0.9740 - val_loss: 0.0373 - val_accuracy: 0.9926\n",
      "Epoch 47/1000\n",
      "17/17 [==============================] - 0s 6ms/step - loss: 0.0733 - accuracy: 0.9768 - val_loss: 0.0427 - val_accuracy: 0.9926\n",
      "Epoch 48/1000\n",
      "17/17 [==============================] - 0s 6ms/step - loss: 0.0571 - accuracy: 0.9824 - val_loss: 0.0482 - val_accuracy: 0.9852\n",
      "Epoch 49/1000\n",
      "17/17 [==============================] - 0s 6ms/step - loss: 0.0694 - accuracy: 0.9759 - val_loss: 0.0503 - val_accuracy: 0.9815\n",
      "Epoch 50/1000\n",
      "17/17 [==============================] - 0s 7ms/step - loss: 0.0526 - accuracy: 0.9870 - val_loss: 0.0387 - val_accuracy: 0.9852\n",
      "Epoch 51/1000\n",
      "17/17 [==============================] - 0s 8ms/step - loss: 0.0529 - accuracy: 0.9842 - val_loss: 0.0345 - val_accuracy: 0.9889\n",
      "Epoch 52/1000\n",
      "17/17 [==============================] - 0s 6ms/step - loss: 0.0464 - accuracy: 0.9861 - val_loss: 0.0414 - val_accuracy: 0.9926\n",
      "Epoch 53/1000\n",
      "17/17 [==============================] - 0s 6ms/step - loss: 0.0550 - accuracy: 0.9824 - val_loss: 0.0423 - val_accuracy: 0.9815\n",
      "Epoch 54/1000\n",
      "17/17 [==============================] - 0s 6ms/step - loss: 0.0458 - accuracy: 0.9870 - val_loss: 0.0503 - val_accuracy: 0.9852\n",
      "Epoch 55/1000\n",
      "17/17 [==============================] - 0s 6ms/step - loss: 0.0573 - accuracy: 0.9814 - val_loss: 0.0373 - val_accuracy: 0.9889\n",
      "Epoch 56/1000\n",
      "17/17 [==============================] - 0s 6ms/step - loss: 0.0567 - accuracy: 0.9805 - val_loss: 0.0376 - val_accuracy: 0.9852\n",
      "Epoch 57/1000\n",
      "17/17 [==============================] - 0s 6ms/step - loss: 0.0583 - accuracy: 0.9777 - val_loss: 0.0388 - val_accuracy: 0.9889\n",
      "Wall time: 7.33 s\n"
     ]
    }
   ],
   "source": [
    "%%time\n",
    "history = model.fit(X_train, y_train,\n",
    "                    batch_size=64,\n",
    "                    epochs=1000,\n",
    "                    validation_split=0.2,\n",
    "                    callbacks=[\n",
    "                        EarlyStopping(monitor='val_accuracy', patience=20)\n",
    "                    ])"
   ]
  },
  {
   "cell_type": "code",
   "execution_count": 22,
   "metadata": {},
   "outputs": [
    {
     "data": {
      "text/plain": [
       "<AxesSubplot:>"
      ]
     },
     "execution_count": 22,
     "metadata": {},
     "output_type": "execute_result"
    },
    {
     "data": {
      "image/png": "[encoded data removed]",
      "text/plain": [
       "<Figure size 432x288 with 1 Axes>"
      ]
     },
     "metadata": {
      "needs_background": "light"
     },
     "output_type": "display_data"
    }
   ],
   "source": [
    "pd.DataFrame(history.history).plot()"
   ]
  },
  {
   "cell_type": "markdown",
   "metadata": {},
   "source": [
    "# Evaluation"
   ]
  },
  {
   "cell_type": "code",
   "execution_count": 23,
   "metadata": {},
   "outputs": [
    {
     "name": "stdout",
     "output_type": "stream",
     "text": [
      "4/4 [==============================] - 0s 2ms/step - loss: 0.0639 - accuracy: 0.9867\n",
      "Test loss: 0.063919, Test acc: 98.67%\n"
     ]
    }
   ],
   "source": [
    "test_loss, test_accuracy = model.evaluate(X_test, y_test, batch_size=128)\n",
    "print(f'Test loss: {test_loss:.6f}, Test acc: {test_accuracy:.2%}')"
   ]
  },
  {
   "cell_type": "code",
   "execution_count": 24,
   "metadata": {},
   "outputs": [],
   "source": [
    "y_test_pred = model.predict(X_test)"
   ]
  },
  {
   "cell_type": "code",
   "execution_count": 25,
   "metadata": {},
   "outputs": [
    {
     "data": {
      "text/plain": [
       "<sklearn.metrics._plot.confusion_matrix.ConfusionMatrixDisplay at 0x1ce4cb44a90>"
      ]
     },
     "execution_count": 25,
     "metadata": {},
     "output_type": "execute_result"
    },
    {
     "data": {
      "image/png": "[encoded data removed]",
      "text/plain": [
       "<Figure size 432x288 with 2 Axes>"
      ]
     },
     "metadata": {
      "needs_background": "light"
     },
     "output_type": "display_data"
    }
   ],
   "source": [
    "cmat = confusion_matrix(\n",
    "    y_true=y_test.argmax(axis=1), \n",
    "    y_pred=y_test_pred.argmax(axis=1))\n",
    "ConfusionMatrixDisplay(cmat).plot()"
   ]
  },
  {
   "cell_type": "markdown",
   "metadata": {},
   "source": [
    "# Application"
   ]
  },
  {
   "cell_type": "code",
   "execution_count": 26,
   "metadata": {},
   "outputs": [],
   "source": [
    "def application(idx=None):\n",
    "    if not idx:\n",
    "        idx = np.random.randint(len(X_test))\n",
    "    print('Collected new features as follows:')\n",
    "    plt.imshow(X_test[idx])\n",
    "    plt.show()\n",
    "    forecasted = model.predict(X_test[idx:idx+1]).argmax()\n",
    "    actual = y_test[idx].argmax()\n",
    "    print(f'\\n{\"CORRECT\" if forecasted==actual else \"WRONG\"}')\n",
    "    print(f'\\nModel forecasted as {forecasted}')\n",
    "    print(f'\\nActual data should be {actual}')"
   ]
  },
  {
   "cell_type": "code",
   "execution_count": 27,
   "metadata": {},
   "outputs": [
    {
     "name": "stdout",
     "output_type": "stream",
     "text": [
      "Collected new features as follows:\n"
     ]
    },
    {
     "data": {
      "image/png": "[encoded data removed]",
      "text/plain": [
       "<Figure size 432x288 with 1 Axes>"
      ]
     },
     "metadata": {
      "needs_background": "light"
     },
     "output_type": "display_data"
    },
    {
     "name": "stdout",
     "output_type": "stream",
     "text": [
      "\n",
      "CORRECT\n",
      "\n",
      "Model forecasted as 9\n",
      "\n",
      "Actual data should be 9\n"
     ]
    }
   ],
   "source": [
    "application()"
   ]
  }
 ],
 "metadata": {
  "kernelspec": {
   "display_name": "Python 3",
   "language": "python",
   "name": "python3"
  },
  "language_info": {
   "codemirror_mode": {
    "name": "ipython",
    "version": 3
   },
   "file_extension": ".py",
   "mimetype": "text/x-python",
   "name": "python",
   "nbconvert_exporter": "python",
   "pygments_lexer": "ipython3",
   "version": "3.8.5"
  }
 },
 "nbformat": 4,
 "nbformat_minor": 4
}
