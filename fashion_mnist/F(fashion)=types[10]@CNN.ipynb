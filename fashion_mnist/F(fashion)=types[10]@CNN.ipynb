{
 "cells": [
  {
   "cell_type": "markdown",
   "metadata": {},
   "source": [
    "# Imports"
   ]
  },
  {
   "cell_type": "code",
   "execution_count": 1,
   "metadata": {},
   "outputs": [],
   "source": [
    "import numpy as np\n",
    "import pandas as pd\n",
    "import matplotlib.pyplot as plt\n",
    "import tensorflow as tf\n",
    "from tensorflow.keras.models import Sequential\n",
    "from tensorflow.keras.layers import Dense, MaxPooling2D, Flatten, Conv2D, Dropout\n",
    "from tensorflow.keras.callbacks import EarlyStopping\n",
    "from sklearn.metrics import confusion_matrix, ConfusionMatrixDisplay"
   ]
  },
  {
   "cell_type": "markdown",
   "metadata": {},
   "source": [
    "# Load Data"
   ]
  },
  {
   "cell_type": "code",
   "execution_count": 2,
   "metadata": {},
   "outputs": [
    {
     "name": "stdout",
     "output_type": "stream",
     "text": [
      "Downloading data from https://storage.googleapis.com/tensorflow/tf-keras-datasets/train-labels-idx1-ubyte.gz\n",
      "32768/29515 [=================================] - 0s 0us/step\n",
      "Downloading data from https://storage.googleapis.com/tensorflow/tf-keras-datasets/train-images-idx3-ubyte.gz\n",
      "26427392/26421880 [==============================] - 0s 0us/step\n",
      "Downloading data from https://storage.googleapis.com/tensorflow/tf-keras-datasets/t10k-labels-idx1-ubyte.gz\n",
      "8192/5148 [===============================================] - 0s 0us/step\n",
      "Downloading data from https://storage.googleapis.com/tensorflow/tf-keras-datasets/t10k-images-idx3-ubyte.gz\n",
      "4423680/4422102 [==============================] - 0s 0us/step\n"
     ]
    }
   ],
   "source": [
    "(X_train, y_train), (X_test, y_test) = tf.keras.datasets.fashion_mnist.load_data()"
   ]
  },
  {
   "cell_type": "code",
   "execution_count": 3,
   "metadata": {},
   "outputs": [
    {
     "data": {
      "text/plain": [
       "[(60000, 28, 28), (60000,), (10000, 28, 28), (10000,)]"
      ]
     },
     "execution_count": 3,
     "metadata": {},
     "output_type": "execute_result"
    }
   ],
   "source": [
    "[item.shape for item in (X_train, y_train, X_test, y_test)]    "
   ]
  },
  {
   "cell_type": "markdown",
   "metadata": {},
   "source": [
    "# Preview"
   ]
  },
  {
   "cell_type": "code",
   "execution_count": 4,
   "metadata": {},
   "outputs": [
    {
     "data": {
      "text/plain": [
       "<matplotlib.colorbar.Colorbar at 0x7f83dfe00a90>"
      ]
     },
     "execution_count": 4,
     "metadata": {},
     "output_type": "execute_result"
    },
    {
     "data": {
      "image/png": "[encoded data removed]",
      "text/plain": [
       "<Figure size 432x288 with 2 Axes>"
      ]
     },
     "metadata": {
      "needs_background": "light"
     },
     "output_type": "display_data"
    }
   ],
   "source": [
    "plt.imshow(X_train[0], cmap='copper')\n",
    "plt.colorbar()"
   ]
  },
  {
   "cell_type": "code",
   "execution_count": 5,
   "metadata": {},
   "outputs": [
    {
     "data": {
      "text/plain": [
       "array([9, 0, 0, ..., 3, 0, 5], dtype=uint8)"
      ]
     },
     "execution_count": 5,
     "metadata": {},
     "output_type": "execute_result"
    }
   ],
   "source": [
    "y_train"
   ]
  },
  {
   "cell_type": "markdown",
   "metadata": {},
   "source": [
    "# Preprocessing"
   ]
  },
  {
   "cell_type": "code",
   "execution_count": 6,
   "metadata": {},
   "outputs": [],
   "source": [
    "X_train, X_test = X_train.reshape(*X_train.shape, 1), X_test.reshape(*X_test.shape, 1)"
   ]
  },
  {
   "cell_type": "code",
   "execution_count": 7,
   "metadata": {},
   "outputs": [
    {
     "data": {
      "text/plain": [
       "((60000, 28, 28, 1), (10000, 28, 28, 1))"
      ]
     },
     "execution_count": 7,
     "metadata": {},
     "output_type": "execute_result"
    }
   ],
   "source": [
    "X_train.shape, X_test.shape"
   ]
  },
  {
   "cell_type": "code",
   "execution_count": 8,
   "metadata": {},
   "outputs": [],
   "source": [
    "X_train, X_test = X_train/255, X_test/255"
   ]
  },
  {
   "cell_type": "code",
   "execution_count": 9,
   "metadata": {},
   "outputs": [
    {
     "data": {
      "text/plain": [
       "<matplotlib.colorbar.Colorbar at 0x7f83e340df50>"
      ]
     },
     "execution_count": 9,
     "metadata": {},
     "output_type": "execute_result"
    },
    {
     "data": {
      "image/png": "[encoded data removed]",
      "text/plain": [
       "<Figure size 432x288 with 2 Axes>"
      ]
     },
     "metadata": {
      "needs_background": "light"
     },
     "output_type": "display_data"
    }
   ],
   "source": [
    "plt.imshow(X_train[0].reshape((28,28)), cmap='copper')\n",
    "plt.colorbar()"
   ]
  },
  {
   "cell_type": "code",
   "execution_count": 10,
   "metadata": {},
   "outputs": [],
   "source": [
    "y_train, y_test = (tf.keras.utils.to_categorical(y) for y in (y_train, y_test))"
   ]
  },
  {
   "cell_type": "code",
   "execution_count": 11,
   "metadata": {},
   "outputs": [
    {
     "data": {
      "text/plain": [
       "<matplotlib.colorbar.Colorbar at 0x7f83e33537d0>"
      ]
     },
     "execution_count": 11,
     "metadata": {},
     "output_type": "execute_result"
    },
    {
     "data": {
      "image/png": "[encoded data removed]",
      "text/plain": [
       "<Figure size 432x288 with 2 Axes>"
      ]
     },
     "metadata": {
      "needs_background": "light"
     },
     "output_type": "display_data"
    }
   ],
   "source": [
    "plt.imshow(y_train[:5], cmap='copper')\n",
    "plt.colorbar()"
   ]
  },
  {
   "cell_type": "markdown",
   "metadata": {},
   "source": [
    "# Model"
   ]
  },
  {
   "cell_type": "code",
   "execution_count": 12,
   "metadata": {},
   "outputs": [],
   "source": [
    "input_shape = X_train.shape[1:]\n",
    "num_classes = y_train.shape[1]"
   ]
  },
  {
   "cell_type": "code",
   "execution_count": 13,
   "metadata": {},
   "outputs": [],
   "source": [
    "model = Sequential([\n",
    "    Conv2D(32, kernel_size=(3, 3), activation='relu', input_shape=input_shape),\n",
    "    MaxPooling2D((2, 2)),\n",
    "    Conv2D(64, kernel_size=(3, 3), activation='relu'),\n",
    "    MaxPooling2D((2, 2)),\n",
    "    Conv2D(64, kernel_size=(3, 3), activation='relu'),\n",
    "    Flatten(), \n",
    "    Dropout(0.2),\n",
    "    Dense(128, activation='relu'),\n",
    "    Dropout(0.2),\n",
    "    Dense(num_classes, activation='softmax'),    \n",
    "])"
   ]
  },
  {
   "cell_type": "code",
   "execution_count": 14,
   "metadata": {},
   "outputs": [],
   "source": [
    "model.compile(loss=tf.keras.losses.categorical_crossentropy,\n",
    "              optimizer='adam',\n",
    "              metrics=['accuracy'])"
   ]
  },
  {
   "cell_type": "code",
   "execution_count": 15,
   "metadata": {},
   "outputs": [
    {
     "name": "stdout",
     "output_type": "stream",
     "text": [
      "Model: \"sequential\"\n",
      "_________________________________________________________________\n",
      "Layer (type)                 Output Shape              Param #   \n",
      "=================================================================\n",
      "conv2d (Conv2D)              (None, 26, 26, 32)        320       \n",
      "_________________________________________________________________\n",
      "max_pooling2d (MaxPooling2D) (None, 13, 13, 32)        0         \n",
      "_________________________________________________________________\n",
      "conv2d_1 (Conv2D)            (None, 11, 11, 64)        18496     \n",
      "_________________________________________________________________\n",
      "max_pooling2d_1 (MaxPooling2 (None, 5, 5, 64)          0         \n",
      "_________________________________________________________________\n",
      "conv2d_2 (Conv2D)            (None, 3, 3, 64)          36928     \n",
      "_________________________________________________________________\n",
      "flatten (Flatten)            (None, 576)               0         \n",
      "_________________________________________________________________\n",
      "dropout (Dropout)            (None, 576)               0         \n",
      "_________________________________________________________________\n",
      "dense (Dense)                (None, 128)               73856     \n",
      "_________________________________________________________________\n",
      "dropout_1 (Dropout)          (None, 128)               0         \n",
      "_________________________________________________________________\n",
      "dense_1 (Dense)              (None, 10)                1290      \n",
      "=================================================================\n",
      "Total params: 130,890\n",
      "Trainable params: 130,890\n",
      "Non-trainable params: 0\n",
      "_________________________________________________________________\n"
     ]
    }
   ],
   "source": [
    "model.summary()"
   ]
  },
  {
   "cell_type": "code",
   "execution_count": 16,
   "metadata": {},
   "outputs": [
    {
     "name": "stdout",
     "output_type": "stream",
     "text": [
      "Epoch 1/1000\n",
      "375/375 [==============================] - 2s 6ms/step - loss: 0.6909 - accuracy: 0.7451 - val_loss: 0.4331 - val_accuracy: 0.8462\n",
      "Epoch 2/1000\n",
      "375/375 [==============================] - 2s 4ms/step - loss: 0.4191 - accuracy: 0.8466 - val_loss: 0.3501 - val_accuracy: 0.8740\n",
      "Epoch 3/1000\n",
      "375/375 [==============================] - 2s 4ms/step - loss: 0.3532 - accuracy: 0.8704 - val_loss: 0.3194 - val_accuracy: 0.8845\n",
      "Epoch 4/1000\n",
      "375/375 [==============================] - 2s 5ms/step - loss: 0.3200 - accuracy: 0.8833 - val_loss: 0.2859 - val_accuracy: 0.8942\n",
      "Epoch 5/1000\n",
      "375/375 [==============================] - 2s 4ms/step - loss: 0.2953 - accuracy: 0.8921 - val_loss: 0.2760 - val_accuracy: 0.8986\n",
      "Epoch 6/1000\n",
      "375/375 [==============================] - 2s 4ms/step - loss: 0.2754 - accuracy: 0.8989 - val_loss: 0.2692 - val_accuracy: 0.8989\n",
      "Epoch 7/1000\n",
      "375/375 [==============================] - 2s 5ms/step - loss: 0.2609 - accuracy: 0.9053 - val_loss: 0.2587 - val_accuracy: 0.9040\n",
      "Epoch 8/1000\n",
      "375/375 [==============================] - 2s 4ms/step - loss: 0.2472 - accuracy: 0.9092 - val_loss: 0.2746 - val_accuracy: 0.8977\n",
      "Epoch 9/1000\n",
      "375/375 [==============================] - 2s 4ms/step - loss: 0.2354 - accuracy: 0.9131 - val_loss: 0.2640 - val_accuracy: 0.9029\n",
      "Epoch 10/1000\n",
      "375/375 [==============================] - 2s 4ms/step - loss: 0.2234 - accuracy: 0.9166 - val_loss: 0.2504 - val_accuracy: 0.9076\n",
      "Epoch 11/1000\n",
      "375/375 [==============================] - 2s 4ms/step - loss: 0.2117 - accuracy: 0.9210 - val_loss: 0.2355 - val_accuracy: 0.9129\n",
      "Epoch 12/1000\n",
      "375/375 [==============================] - 2s 4ms/step - loss: 0.2053 - accuracy: 0.9236 - val_loss: 0.2309 - val_accuracy: 0.9150\n",
      "Epoch 13/1000\n",
      "375/375 [==============================] - 2s 4ms/step - loss: 0.1957 - accuracy: 0.9280 - val_loss: 0.2391 - val_accuracy: 0.9145\n",
      "Epoch 14/1000\n",
      "375/375 [==============================] - 2s 5ms/step - loss: 0.1888 - accuracy: 0.9301 - val_loss: 0.2309 - val_accuracy: 0.9143\n",
      "Epoch 15/1000\n",
      "375/375 [==============================] - 2s 4ms/step - loss: 0.1816 - accuracy: 0.9314 - val_loss: 0.2394 - val_accuracy: 0.9127\n",
      "Epoch 16/1000\n",
      "375/375 [==============================] - 2s 4ms/step - loss: 0.1753 - accuracy: 0.9356 - val_loss: 0.2305 - val_accuracy: 0.9182\n",
      "Epoch 17/1000\n",
      "375/375 [==============================] - 2s 5ms/step - loss: 0.1644 - accuracy: 0.9393 - val_loss: 0.2331 - val_accuracy: 0.9174\n",
      "Epoch 18/1000\n",
      "375/375 [==============================] - 2s 4ms/step - loss: 0.1610 - accuracy: 0.9398 - val_loss: 0.2300 - val_accuracy: 0.9203\n",
      "Epoch 19/1000\n",
      "375/375 [==============================] - 2s 4ms/step - loss: 0.1549 - accuracy: 0.9414 - val_loss: 0.2341 - val_accuracy: 0.9187\n",
      "Epoch 20/1000\n",
      "375/375 [==============================] - 2s 4ms/step - loss: 0.1488 - accuracy: 0.9443 - val_loss: 0.2248 - val_accuracy: 0.9212\n",
      "Epoch 21/1000\n",
      "375/375 [==============================] - 2s 5ms/step - loss: 0.1413 - accuracy: 0.9470 - val_loss: 0.2338 - val_accuracy: 0.9195\n",
      "Epoch 22/1000\n",
      "375/375 [==============================] - 2s 4ms/step - loss: 0.1370 - accuracy: 0.9484 - val_loss: 0.2321 - val_accuracy: 0.9192\n",
      "Epoch 23/1000\n",
      "375/375 [==============================] - 2s 4ms/step - loss: 0.1320 - accuracy: 0.9495 - val_loss: 0.2501 - val_accuracy: 0.9192\n",
      "Epoch 24/1000\n",
      "375/375 [==============================] - 2s 4ms/step - loss: 0.1249 - accuracy: 0.9525 - val_loss: 0.2460 - val_accuracy: 0.9180\n",
      "Epoch 25/1000\n",
      "375/375 [==============================] - 2s 4ms/step - loss: 0.1226 - accuracy: 0.9546 - val_loss: 0.2432 - val_accuracy: 0.9216\n",
      "Epoch 26/1000\n",
      "375/375 [==============================] - 2s 4ms/step - loss: 0.1172 - accuracy: 0.9564 - val_loss: 0.2629 - val_accuracy: 0.9197\n",
      "Epoch 27/1000\n",
      "375/375 [==============================] - 2s 4ms/step - loss: 0.1142 - accuracy: 0.9560 - val_loss: 0.2689 - val_accuracy: 0.9168\n",
      "Epoch 28/1000\n",
      "375/375 [==============================] - 2s 4ms/step - loss: 0.1123 - accuracy: 0.9577 - val_loss: 0.2463 - val_accuracy: 0.9213\n",
      "Epoch 29/1000\n",
      "375/375 [==============================] - 2s 4ms/step - loss: 0.1082 - accuracy: 0.9589 - val_loss: 0.2558 - val_accuracy: 0.9208\n",
      "Epoch 30/1000\n",
      "375/375 [==============================] - 2s 4ms/step - loss: 0.1063 - accuracy: 0.9594 - val_loss: 0.2677 - val_accuracy: 0.9194\n",
      "Epoch 31/1000\n",
      "375/375 [==============================] - 2s 4ms/step - loss: 0.1001 - accuracy: 0.9617 - val_loss: 0.2588 - val_accuracy: 0.9233\n",
      "Epoch 32/1000\n",
      "375/375 [==============================] - 2s 4ms/step - loss: 0.0983 - accuracy: 0.9620 - val_loss: 0.2722 - val_accuracy: 0.9177\n",
      "Epoch 33/1000\n",
      "375/375 [==============================] - 2s 4ms/step - loss: 0.0931 - accuracy: 0.9652 - val_loss: 0.2967 - val_accuracy: 0.9204\n",
      "Epoch 34/1000\n",
      "375/375 [==============================] - 2s 5ms/step - loss: 0.0931 - accuracy: 0.9643 - val_loss: 0.2882 - val_accuracy: 0.9220\n",
      "Epoch 35/1000\n",
      "375/375 [==============================] - 2s 4ms/step - loss: 0.0927 - accuracy: 0.9645 - val_loss: 0.2772 - val_accuracy: 0.9205\n",
      "Epoch 36/1000\n",
      "375/375 [==============================] - 2s 4ms/step - loss: 0.0836 - accuracy: 0.9677 - val_loss: 0.2921 - val_accuracy: 0.9178\n",
      "Epoch 37/1000\n",
      "375/375 [==============================] - 2s 5ms/step - loss: 0.0858 - accuracy: 0.9671 - val_loss: 0.2875 - val_accuracy: 0.9189\n",
      "Epoch 38/1000\n",
      "375/375 [==============================] - 2s 5ms/step - loss: 0.0831 - accuracy: 0.9684 - val_loss: 0.3198 - val_accuracy: 0.9179\n",
      "Epoch 39/1000\n",
      "375/375 [==============================] - 2s 4ms/step - loss: 0.0821 - accuracy: 0.9692 - val_loss: 0.3054 - val_accuracy: 0.9187\n",
      "Epoch 40/1000\n",
      "375/375 [==============================] - 2s 5ms/step - loss: 0.0785 - accuracy: 0.9703 - val_loss: 0.2959 - val_accuracy: 0.9217\n",
      "Epoch 41/1000\n",
      "375/375 [==============================] - 2s 5ms/step - loss: 0.0772 - accuracy: 0.9710 - val_loss: 0.3039 - val_accuracy: 0.9199\n",
      "Epoch 42/1000\n",
      "375/375 [==============================] - 2s 4ms/step - loss: 0.0777 - accuracy: 0.9701 - val_loss: 0.3045 - val_accuracy: 0.9170\n",
      "Epoch 43/1000\n",
      "375/375 [==============================] - 2s 4ms/step - loss: 0.0762 - accuracy: 0.9711 - val_loss: 0.3228 - val_accuracy: 0.9190\n",
      "Epoch 44/1000\n",
      "375/375 [==============================] - 2s 4ms/step - loss: 0.0720 - accuracy: 0.9725 - val_loss: 0.3036 - val_accuracy: 0.9204\n",
      "Epoch 45/1000\n",
      "375/375 [==============================] - 2s 4ms/step - loss: 0.0705 - accuracy: 0.9732 - val_loss: 0.3209 - val_accuracy: 0.9184\n",
      "Epoch 46/1000\n",
      "375/375 [==============================] - 2s 4ms/step - loss: 0.0703 - accuracy: 0.9732 - val_loss: 0.3188 - val_accuracy: 0.9183\n",
      "Epoch 47/1000\n",
      "375/375 [==============================] - 2s 4ms/step - loss: 0.0697 - accuracy: 0.9736 - val_loss: 0.3150 - val_accuracy: 0.9181\n",
      "Epoch 48/1000\n",
      "375/375 [==============================] - 2s 5ms/step - loss: 0.0671 - accuracy: 0.9748 - val_loss: 0.3228 - val_accuracy: 0.9209\n",
      "Epoch 49/1000\n",
      "375/375 [==============================] - 2s 4ms/step - loss: 0.0655 - accuracy: 0.9756 - val_loss: 0.3232 - val_accuracy: 0.9178\n",
      "Epoch 50/1000\n",
      "375/375 [==============================] - 2s 4ms/step - loss: 0.0646 - accuracy: 0.9757 - val_loss: 0.3467 - val_accuracy: 0.9208\n",
      "Epoch 51/1000\n",
      "375/375 [==============================] - 2s 4ms/step - loss: 0.0623 - accuracy: 0.9756 - val_loss: 0.3427 - val_accuracy: 0.9179\n"
     ]
    }
   ],
   "source": [
    "history = model.fit(X_train, y_train,\n",
    "                    batch_size=128,\n",
    "                    epochs=1000,\n",
    "                    validation_split=0.2,\n",
    "                    callbacks=[\n",
    "                        EarlyStopping(monitor='val_accuracy', patience=20)\n",
    "                    ])"
   ]
  },
  {
   "cell_type": "code",
   "execution_count": 17,
   "metadata": {},
   "outputs": [
    {
     "data": {
      "text/plain": [
       "<matplotlib.axes._subplots.AxesSubplot at 0x7f83e03b42d0>"
      ]
     },
     "execution_count": 17,
     "metadata": {},
     "output_type": "execute_result"
    },
    {
     "data": {
      "image/png": "[encoded data removed]",
      "text/plain": [
       "<Figure size 432x288 with 1 Axes>"
      ]
     },
     "metadata": {
      "needs_background": "light"
     },
     "output_type": "display_data"
    }
   ],
   "source": [
    "pd.DataFrame(history.history).plot()"
   ]
  },
  {
   "cell_type": "markdown",
   "metadata": {},
   "source": [
    "# Evaluation"
   ]
  },
  {
   "cell_type": "code",
   "execution_count": 18,
   "metadata": {},
   "outputs": [
    {
     "name": "stdout",
     "output_type": "stream",
     "text": [
      "79/79 [==============================] - 0s 3ms/step - loss: 0.3841 - accuracy: 0.9100\n",
      "Test loss: 0.384077, Test acc: 91.00%\n"
     ]
    }
   ],
   "source": [
    "test_loss, test_accuracy = model.evaluate(X_test, y_test, batch_size=128)\n",
    "print(f'Test loss: {test_loss:.6f}, Test acc: {test_accuracy:.2%}')"
   ]
  },
  {
   "cell_type": "code",
   "execution_count": 19,
   "metadata": {},
   "outputs": [],
   "source": [
    "y_test_pred = model.predict(X_test)"
   ]
  },
  {
   "cell_type": "code",
   "execution_count": 20,
   "metadata": {},
   "outputs": [
    {
     "data": {
      "text/plain": [
       "<sklearn.metrics._plot.confusion_matrix.ConfusionMatrixDisplay at 0x7f83c41c7910>"
      ]
     },
     "execution_count": 20,
     "metadata": {},
     "output_type": "execute_result"
    },
    {
     "data": {
      "image/png": "[encoded data removed]",
      "text/plain": [
       "<Figure size 432x288 with 2 Axes>"
      ]
     },
     "metadata": {
      "needs_background": "light"
     },
     "output_type": "display_data"
    }
   ],
   "source": [
    "cmat = confusion_matrix(\n",
    "    y_true=y_test.argmax(axis=1), \n",
    "    y_pred=y_test_pred.argmax(axis=1))\n",
    "ConfusionMatrixDisplay(cmat).plot()"
   ]
  },
  {
   "cell_type": "markdown",
   "metadata": {},
   "source": [
    "# Application"
   ]
  },
  {
   "cell_type": "code",
   "execution_count": 23,
   "metadata": {},
   "outputs": [],
   "source": [
    "def application(idx=None):\n",
    "    if not idx:\n",
    "        idx = np.random.randint(len(X_test))\n",
    "    print('Collected new features as follows:')\n",
    "    plt.imshow(X_test[idx].reshape((28,28)), cmap='copper')\n",
    "    plt.show()\n",
    "    names = ['T-shirt/top','Trouser','Pullover','Dress','Coat',\n",
    "             'Sandal','Shirt','Sneaker','Bag','Ankle boot']\n",
    "    forecasted = model.predict(X_test[idx:idx+1]).argmax()\n",
    "    actual = y_test[idx].argmax()\n",
    "    print(f'\\n{\"CORRECT\" if forecasted==actual else \"WRONG\"}')\n",
    "    print(f'\\nModel forecasted as {forecasted} ({names[forecasted]})')\n",
    "    print(f'\\nActual data should be {actual} ({names[actual]})')"
   ]
  },
  {
   "cell_type": "code",
   "execution_count": 24,
   "metadata": {},
   "outputs": [
    {
     "name": "stdout",
     "output_type": "stream",
     "text": [
      "Collected new features as follows:\n"
     ]
    },
    {
     "data": {
      "image/png": "[encoded data removed]",
      "text/plain": [
       "<Figure size 432x288 with 1 Axes>"
      ]
     },
     "metadata": {
      "needs_background": "light"
     },
     "output_type": "display_data"
    },
    {
     "name": "stdout",
     "output_type": "stream",
     "text": [
      "\n",
      "CORRECT\n",
      "\n",
      "Model forecasted as 8 (Bag)\n",
      "\n",
      "Actual data should be 8 (Bag)\n"
     ]
    }
   ],
   "source": [
    "application()"
   ]
  }
 ],
 "metadata": {
  "kernelspec": {
   "display_name": "Python 3",
   "language": "python",
   "name": "python3"
  },
  "language_info": {
   "codemirror_mode": {
    "name": "ipython",
    "version": 3
   },
   "file_extension": ".py",
   "mimetype": "text/x-python",
   "name": "python",
   "nbconvert_exporter": "python",
   "pygments_lexer": "ipython3",
   "version": "3.8.5"
  }
 },
 "nbformat": 4,
 "nbformat_minor": 4
}
