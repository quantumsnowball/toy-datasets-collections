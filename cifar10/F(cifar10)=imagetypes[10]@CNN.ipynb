{
 "cells": [
  {
   "cell_type": "markdown",
   "metadata": {},
   "source": [
    "# Imports"
   ]
  },
  {
   "cell_type": "code",
   "execution_count": 1,
   "metadata": {},
   "outputs": [],
   "source": [
    "import os\n",
    "import numpy as np\n",
    "import pandas as pd\n",
    "import tensorflow as tf\n",
    "import matplotlib.pyplot as plt\n",
    "from tensorflow.keras.models import Sequential\n",
    "from tensorflow.keras.layers import Dense, Flatten, Conv2D, MaxPooling2D, Dropout\n",
    "from tensorflow.keras.callbacks import EarlyStopping\n",
    "from sklearn.metrics import confusion_matrix, ConfusionMatrixDisplay"
   ]
  },
  {
   "cell_type": "markdown",
   "metadata": {},
   "source": [
    "# Load Data"
   ]
  },
  {
   "cell_type": "code",
   "execution_count": 2,
   "metadata": {},
   "outputs": [
    {
     "name": "stdout",
     "output_type": "stream",
     "text": [
      "Downloading data from https://www.cs.toronto.edu/~kriz/cifar-10-python.tar.gz\n",
      "170500096/170498071 [==============================] - 2s 0us/step\n"
     ]
    }
   ],
   "source": [
    "(X_train, y_train), (X_test, y_test) = tf.keras.datasets.cifar10.load_data()"
   ]
  },
  {
   "cell_type": "code",
   "execution_count": 3,
   "metadata": {},
   "outputs": [
    {
     "data": {
      "text/plain": [
       "[(50000, 32, 32, 3), (50000, 1), (10000, 32, 32, 3), (10000, 1)]"
      ]
     },
     "execution_count": 3,
     "metadata": {},
     "output_type": "execute_result"
    }
   ],
   "source": [
    "[item.shape for item in (X_train, y_train, X_test, y_test)]    "
   ]
  },
  {
   "cell_type": "markdown",
   "metadata": {},
   "source": [
    "# Preview"
   ]
  },
  {
   "cell_type": "code",
   "execution_count": 4,
   "metadata": {},
   "outputs": [
    {
     "data": {
      "text/plain": [
       "<matplotlib.colorbar.Colorbar at 0x7fcab4851b10>"
      ]
     },
     "execution_count": 4,
     "metadata": {},
     "output_type": "execute_result"
    },
    {
     "data": {
      "image/png": "[encoded data removed]",
      "text/plain": [
       "<Figure size 432x288 with 2 Axes>"
      ]
     },
     "metadata": {
      "needs_background": "light"
     },
     "output_type": "display_data"
    }
   ],
   "source": [
    "plt.imshow(X_train[0], cmap='copper')\n",
    "plt.colorbar()"
   ]
  },
  {
   "cell_type": "markdown",
   "metadata": {},
   "source": [
    "The values of X range from 0 to 255, we need to scale it down to 0 to 1.0 for best result."
   ]
  },
  {
   "cell_type": "code",
   "execution_count": 5,
   "metadata": {},
   "outputs": [
    {
     "data": {
      "text/plain": [
       "array([[6],\n",
       "       [9],\n",
       "       [9],\n",
       "       ...,\n",
       "       [9],\n",
       "       [1],\n",
       "       [1]], dtype=uint8)"
      ]
     },
     "execution_count": 5,
     "metadata": {},
     "output_type": "execute_result"
    }
   ],
   "source": [
    "y_train"
   ]
  },
  {
   "cell_type": "markdown",
   "metadata": {},
   "source": [
    "We need to convert y label to one-hot encoding before we can use neural network as model."
   ]
  },
  {
   "cell_type": "markdown",
   "metadata": {},
   "source": [
    "# Preprocessing"
   ]
  },
  {
   "cell_type": "code",
   "execution_count": 6,
   "metadata": {},
   "outputs": [],
   "source": [
    "X_train, X_test = X_train/255, X_test/255"
   ]
  },
  {
   "cell_type": "code",
   "execution_count": 7,
   "metadata": {},
   "outputs": [
    {
     "data": {
      "text/plain": [
       "<matplotlib.colorbar.Colorbar at 0x7fcabdc8c890>"
      ]
     },
     "execution_count": 7,
     "metadata": {},
     "output_type": "execute_result"
    },
    {
     "data": {
      "image/png": "[encoded data removed]",
      "text/plain": [
       "<Figure size 432x288 with 2 Axes>"
      ]
     },
     "metadata": {
      "needs_background": "light"
     },
     "output_type": "display_data"
    }
   ],
   "source": [
    "plt.imshow(X_train[0], cmap='copper')\n",
    "plt.colorbar()"
   ]
  },
  {
   "cell_type": "code",
   "execution_count": 8,
   "metadata": {},
   "outputs": [],
   "source": [
    "y_train, y_test = (tf.keras.utils.to_categorical(y) for y in (y_train, y_test))"
   ]
  },
  {
   "cell_type": "code",
   "execution_count": 9,
   "metadata": {},
   "outputs": [
    {
     "data": {
      "text/plain": [
       "<matplotlib.colorbar.Colorbar at 0x7fcabdbced50>"
      ]
     },
     "execution_count": 9,
     "metadata": {},
     "output_type": "execute_result"
    },
    {
     "data": {
      "image/png": "[encoded data removed]",
      "text/plain": [
       "<Figure size 432x288 with 2 Axes>"
      ]
     },
     "metadata": {
      "needs_background": "light"
     },
     "output_type": "display_data"
    }
   ],
   "source": [
    "plt.imshow(y_train[:5], cmap='copper')\n",
    "plt.colorbar()"
   ]
  },
  {
   "cell_type": "markdown",
   "metadata": {},
   "source": [
    "Now each X input is a 32x32x3 array with values between 0 and 1 and each y label is a one-hot encoded vector."
   ]
  },
  {
   "cell_type": "markdown",
   "metadata": {},
   "source": [
    "# Model"
   ]
  },
  {
   "cell_type": "markdown",
   "metadata": {},
   "source": [
    "Since the inputs are images, and the task is to classify them, convolution neural network seems to be a suitable model."
   ]
  },
  {
   "cell_type": "code",
   "execution_count": 10,
   "metadata": {},
   "outputs": [],
   "source": [
    "input_shape = X_train.shape[1:]\n",
    "num_classes = y_train.shape[1]"
   ]
  },
  {
   "cell_type": "code",
   "execution_count": 11,
   "metadata": {},
   "outputs": [],
   "source": [
    "model = Sequential([\n",
    "    Conv2D(32, kernel_size=(3, 3), activation='relu', input_shape=input_shape),\n",
    "    MaxPooling2D((2, 2)),\n",
    "    Conv2D(64, kernel_size=(3, 3), activation='relu'),\n",
    "    MaxPooling2D((2, 2)),\n",
    "    Conv2D(64, kernel_size=(3, 3), activation='relu'),\n",
    "    Flatten(), \n",
    "    Dropout(0.2),\n",
    "    Dense(128, activation='relu'),\n",
    "    Dropout(0.2),\n",
    "    Dense(num_classes, activation='softmax'),    \n",
    "])"
   ]
  },
  {
   "cell_type": "code",
   "execution_count": 12,
   "metadata": {},
   "outputs": [],
   "source": [
    "model.compile(loss=tf.keras.losses.categorical_crossentropy,\n",
    "              optimizer='adam',\n",
    "              metrics=['accuracy'])"
   ]
  },
  {
   "cell_type": "code",
   "execution_count": 13,
   "metadata": {},
   "outputs": [],
   "source": [
    "if os.path.isfile('model.h5'):\n",
    "    model = tf.keras.models.load_model('model.h5')\n",
    "    print('Load model successfully')"
   ]
  },
  {
   "cell_type": "code",
   "execution_count": 14,
   "metadata": {},
   "outputs": [
    {
     "name": "stdout",
     "output_type": "stream",
     "text": [
      "Model: \"sequential\"\n",
      "_________________________________________________________________\n",
      "Layer (type)                 Output Shape              Param #   \n",
      "=================================================================\n",
      "conv2d (Conv2D)              (None, 30, 30, 32)        896       \n",
      "_________________________________________________________________\n",
      "max_pooling2d (MaxPooling2D) (None, 15, 15, 32)        0         \n",
      "_________________________________________________________________\n",
      "conv2d_1 (Conv2D)            (None, 13, 13, 64)        18496     \n",
      "_________________________________________________________________\n",
      "max_pooling2d_1 (MaxPooling2 (None, 6, 6, 64)          0         \n",
      "_________________________________________________________________\n",
      "conv2d_2 (Conv2D)            (None, 4, 4, 64)          36928     \n",
      "_________________________________________________________________\n",
      "flatten (Flatten)            (None, 1024)              0         \n",
      "_________________________________________________________________\n",
      "dropout (Dropout)            (None, 1024)              0         \n",
      "_________________________________________________________________\n",
      "dense (Dense)                (None, 128)               131200    \n",
      "_________________________________________________________________\n",
      "dropout_1 (Dropout)          (None, 128)               0         \n",
      "_________________________________________________________________\n",
      "dense_1 (Dense)              (None, 10)                1290      \n",
      "=================================================================\n",
      "Total params: 188,810\n",
      "Trainable params: 188,810\n",
      "Non-trainable params: 0\n",
      "_________________________________________________________________\n"
     ]
    }
   ],
   "source": [
    "model.summary()"
   ]
  },
  {
   "cell_type": "code",
   "execution_count": 15,
   "metadata": {},
   "outputs": [
    {
     "name": "stdout",
     "output_type": "stream",
     "text": [
      "Epoch 1/1000\n",
      "157/157 [==============================] - 2s 10ms/step - loss: 1.8133 - accuracy: 0.3284 - val_loss: 1.5454 - val_accuracy: 0.4460\n",
      "Epoch 2/1000\n",
      "157/157 [==============================] - 1s 7ms/step - loss: 1.4522 - accuracy: 0.4698 - val_loss: 1.3312 - val_accuracy: 0.5259\n",
      "Epoch 3/1000\n",
      "157/157 [==============================] - 1s 8ms/step - loss: 1.3279 - accuracy: 0.5265 - val_loss: 1.2835 - val_accuracy: 0.5456\n",
      "Epoch 4/1000\n",
      "157/157 [==============================] - 1s 7ms/step - loss: 1.2243 - accuracy: 0.5638 - val_loss: 1.1749 - val_accuracy: 0.5858\n",
      "Epoch 5/1000\n",
      "157/157 [==============================] - 1s 7ms/step - loss: 1.1618 - accuracy: 0.5879 - val_loss: 1.1651 - val_accuracy: 0.5911\n",
      "Epoch 6/1000\n",
      "157/157 [==============================] - 1s 8ms/step - loss: 1.0982 - accuracy: 0.6127 - val_loss: 1.0738 - val_accuracy: 0.6261\n",
      "Epoch 7/1000\n",
      "157/157 [==============================] - 1s 7ms/step - loss: 1.0469 - accuracy: 0.6310 - val_loss: 1.0207 - val_accuracy: 0.6415\n",
      "Epoch 8/1000\n",
      "157/157 [==============================] - 1s 7ms/step - loss: 1.0069 - accuracy: 0.6449 - val_loss: 0.9936 - val_accuracy: 0.6538\n",
      "Epoch 9/1000\n",
      "157/157 [==============================] - 1s 8ms/step - loss: 0.9577 - accuracy: 0.6641 - val_loss: 0.9476 - val_accuracy: 0.6661\n",
      "Epoch 10/1000\n",
      "157/157 [==============================] - 1s 7ms/step - loss: 0.9327 - accuracy: 0.6702 - val_loss: 0.9318 - val_accuracy: 0.6717\n",
      "Epoch 11/1000\n",
      "157/157 [==============================] - 1s 7ms/step - loss: 0.8999 - accuracy: 0.6838 - val_loss: 0.9461 - val_accuracy: 0.6699\n",
      "Epoch 12/1000\n",
      "157/157 [==============================] - 1s 7ms/step - loss: 0.8822 - accuracy: 0.6911 - val_loss: 0.8816 - val_accuracy: 0.6907\n",
      "Epoch 13/1000\n",
      "157/157 [==============================] - 1s 7ms/step - loss: 0.8463 - accuracy: 0.7028 - val_loss: 0.9100 - val_accuracy: 0.6813\n",
      "Epoch 14/1000\n",
      "157/157 [==============================] - 1s 7ms/step - loss: 0.8170 - accuracy: 0.7146 - val_loss: 0.8372 - val_accuracy: 0.7077\n",
      "Epoch 15/1000\n",
      "157/157 [==============================] - 1s 7ms/step - loss: 0.7895 - accuracy: 0.7213 - val_loss: 0.8697 - val_accuracy: 0.6965\n",
      "Epoch 16/1000\n",
      "157/157 [==============================] - 1s 8ms/step - loss: 0.7697 - accuracy: 0.7298 - val_loss: 0.9016 - val_accuracy: 0.6896\n",
      "Epoch 17/1000\n",
      "157/157 [==============================] - 1s 7ms/step - loss: 0.7595 - accuracy: 0.7339 - val_loss: 0.8278 - val_accuracy: 0.7135\n",
      "Epoch 18/1000\n",
      "157/157 [==============================] - 1s 7ms/step - loss: 0.7337 - accuracy: 0.7403 - val_loss: 0.8268 - val_accuracy: 0.7184\n",
      "Epoch 19/1000\n",
      "157/157 [==============================] - 1s 7ms/step - loss: 0.7217 - accuracy: 0.7446 - val_loss: 0.8497 - val_accuracy: 0.7027\n",
      "Epoch 20/1000\n",
      "157/157 [==============================] - 1s 7ms/step - loss: 0.6957 - accuracy: 0.7549 - val_loss: 0.8179 - val_accuracy: 0.7169\n",
      "Epoch 21/1000\n",
      "157/157 [==============================] - 1s 7ms/step - loss: 0.6774 - accuracy: 0.7612 - val_loss: 0.7991 - val_accuracy: 0.7206\n",
      "Epoch 22/1000\n",
      "157/157 [==============================] - 1s 7ms/step - loss: 0.6577 - accuracy: 0.7683 - val_loss: 0.7651 - val_accuracy: 0.7353\n",
      "Epoch 23/1000\n",
      "157/157 [==============================] - 1s 7ms/step - loss: 0.6408 - accuracy: 0.7752 - val_loss: 0.7792 - val_accuracy: 0.7301\n",
      "Epoch 24/1000\n",
      "157/157 [==============================] - 1s 7ms/step - loss: 0.6299 - accuracy: 0.7781 - val_loss: 0.8168 - val_accuracy: 0.7226\n",
      "Epoch 25/1000\n",
      "157/157 [==============================] - 1s 8ms/step - loss: 0.6158 - accuracy: 0.7838 - val_loss: 0.7991 - val_accuracy: 0.7247\n",
      "Epoch 26/1000\n",
      "157/157 [==============================] - 1s 7ms/step - loss: 0.5978 - accuracy: 0.7904 - val_loss: 0.7870 - val_accuracy: 0.7277\n",
      "Epoch 27/1000\n",
      "157/157 [==============================] - 1s 7ms/step - loss: 0.5770 - accuracy: 0.7965 - val_loss: 0.7675 - val_accuracy: 0.7350\n",
      "Epoch 28/1000\n",
      "157/157 [==============================] - 1s 8ms/step - loss: 0.5687 - accuracy: 0.8004 - val_loss: 0.7854 - val_accuracy: 0.7349\n",
      "Epoch 29/1000\n",
      "157/157 [==============================] - 1s 7ms/step - loss: 0.5611 - accuracy: 0.8038 - val_loss: 0.8403 - val_accuracy: 0.7175\n",
      "Epoch 30/1000\n",
      "157/157 [==============================] - 1s 7ms/step - loss: 0.5515 - accuracy: 0.8061 - val_loss: 0.7899 - val_accuracy: 0.7318\n",
      "Epoch 31/1000\n",
      "157/157 [==============================] - 1s 7ms/step - loss: 0.5302 - accuracy: 0.8127 - val_loss: 0.7862 - val_accuracy: 0.7379\n",
      "Epoch 32/1000\n",
      "157/157 [==============================] - 1s 7ms/step - loss: 0.5122 - accuracy: 0.8180 - val_loss: 0.7736 - val_accuracy: 0.7409\n",
      "Epoch 33/1000\n",
      "157/157 [==============================] - 1s 7ms/step - loss: 0.5119 - accuracy: 0.8180 - val_loss: 0.7869 - val_accuracy: 0.7418\n",
      "Epoch 34/1000\n",
      "157/157 [==============================] - 1s 7ms/step - loss: 0.5023 - accuracy: 0.8192 - val_loss: 0.7656 - val_accuracy: 0.7461\n",
      "Epoch 35/1000\n",
      "157/157 [==============================] - 1s 8ms/step - loss: 0.4825 - accuracy: 0.8302 - val_loss: 0.7909 - val_accuracy: 0.7419\n",
      "Epoch 36/1000\n",
      "157/157 [==============================] - 1s 8ms/step - loss: 0.4732 - accuracy: 0.8308 - val_loss: 0.7930 - val_accuracy: 0.7463\n",
      "Epoch 37/1000\n",
      "157/157 [==============================] - 1s 7ms/step - loss: 0.4611 - accuracy: 0.8360 - val_loss: 0.7941 - val_accuracy: 0.7389\n",
      "Epoch 38/1000\n",
      "157/157 [==============================] - 1s 8ms/step - loss: 0.4544 - accuracy: 0.8377 - val_loss: 0.7802 - val_accuracy: 0.7538\n",
      "Epoch 39/1000\n",
      "157/157 [==============================] - 1s 7ms/step - loss: 0.4426 - accuracy: 0.8426 - val_loss: 0.7690 - val_accuracy: 0.7531\n",
      "Epoch 40/1000\n",
      "157/157 [==============================] - 1s 8ms/step - loss: 0.4317 - accuracy: 0.8441 - val_loss: 0.8225 - val_accuracy: 0.7393\n",
      "Epoch 41/1000\n",
      "157/157 [==============================] - 1s 7ms/step - loss: 0.4218 - accuracy: 0.8501 - val_loss: 0.8245 - val_accuracy: 0.7339\n",
      "Epoch 42/1000\n",
      "157/157 [==============================] - 1s 7ms/step - loss: 0.4189 - accuracy: 0.8498 - val_loss: 0.8093 - val_accuracy: 0.7433\n",
      "Epoch 43/1000\n",
      "157/157 [==============================] - 1s 7ms/step - loss: 0.4106 - accuracy: 0.8518 - val_loss: 0.8423 - val_accuracy: 0.7430\n",
      "Epoch 44/1000\n",
      "157/157 [==============================] - 1s 8ms/step - loss: 0.4054 - accuracy: 0.8553 - val_loss: 0.8404 - val_accuracy: 0.7345\n",
      "Epoch 45/1000\n",
      "157/157 [==============================] - 1s 7ms/step - loss: 0.3930 - accuracy: 0.8605 - val_loss: 0.8040 - val_accuracy: 0.7494\n",
      "Epoch 46/1000\n",
      "157/157 [==============================] - 1s 7ms/step - loss: 0.3903 - accuracy: 0.8585 - val_loss: 0.8608 - val_accuracy: 0.7339\n",
      "Epoch 47/1000\n",
      "157/157 [==============================] - 1s 7ms/step - loss: 0.3773 - accuracy: 0.8649 - val_loss: 0.8803 - val_accuracy: 0.7402\n",
      "Epoch 48/1000\n",
      "157/157 [==============================] - 1s 7ms/step - loss: 0.3814 - accuracy: 0.8624 - val_loss: 0.8358 - val_accuracy: 0.7431\n",
      "Epoch 49/1000\n",
      "157/157 [==============================] - 1s 7ms/step - loss: 0.3705 - accuracy: 0.8677 - val_loss: 0.8236 - val_accuracy: 0.7470\n",
      "Epoch 50/1000\n",
      "157/157 [==============================] - 1s 7ms/step - loss: 0.3620 - accuracy: 0.8684 - val_loss: 0.8663 - val_accuracy: 0.7440\n",
      "Epoch 51/1000\n",
      "157/157 [==============================] - 1s 7ms/step - loss: 0.3609 - accuracy: 0.8715 - val_loss: 0.8532 - val_accuracy: 0.7464\n",
      "Epoch 52/1000\n",
      "157/157 [==============================] - 1s 7ms/step - loss: 0.3507 - accuracy: 0.8713 - val_loss: 0.8577 - val_accuracy: 0.7452\n",
      "Epoch 53/1000\n",
      "157/157 [==============================] - 1s 8ms/step - loss: 0.3490 - accuracy: 0.8747 - val_loss: 0.8724 - val_accuracy: 0.7464\n",
      "Epoch 54/1000\n",
      "157/157 [==============================] - 1s 8ms/step - loss: 0.3359 - accuracy: 0.8792 - val_loss: 0.8588 - val_accuracy: 0.7463\n",
      "Epoch 55/1000\n",
      "157/157 [==============================] - 1s 7ms/step - loss: 0.3346 - accuracy: 0.8786 - val_loss: 0.8786 - val_accuracy: 0.7425\n",
      "Epoch 56/1000\n",
      "157/157 [==============================] - 1s 7ms/step - loss: 0.3253 - accuracy: 0.8821 - val_loss: 0.9063 - val_accuracy: 0.7315\n",
      "Epoch 57/1000\n",
      "157/157 [==============================] - 1s 7ms/step - loss: 0.3245 - accuracy: 0.8838 - val_loss: 0.8815 - val_accuracy: 0.7502\n",
      "Epoch 58/1000\n",
      "157/157 [==============================] - 1s 7ms/step - loss: 0.3219 - accuracy: 0.8851 - val_loss: 0.8969 - val_accuracy: 0.7410\n"
     ]
    }
   ],
   "source": [
    "history = model.fit(X_train, y_train,\n",
    "                    batch_size=256,\n",
    "                    epochs=1000,\n",
    "                    validation_split = 0.2,\n",
    "                    callbacks=[\n",
    "                        EarlyStopping(monitor='val_accuracy', patience=20)\n",
    "                    ])"
   ]
  },
  {
   "cell_type": "code",
   "execution_count": 16,
   "metadata": {},
   "outputs": [
    {
     "data": {
      "text/plain": [
       "<matplotlib.axes._subplots.AxesSubplot at 0x7fcab4a5f610>"
      ]
     },
     "execution_count": 16,
     "metadata": {},
     "output_type": "execute_result"
    },
    {
     "data": {
      "image/png": "[encoded data removed]",
      "text/plain": [
       "<Figure size 432x288 with 1 Axes>"
      ]
     },
     "metadata": {
      "needs_background": "light"
     },
     "output_type": "display_data"
    }
   ],
   "source": [
    "pd.DataFrame(history.history).plot()"
   ]
  },
  {
   "cell_type": "code",
   "execution_count": 17,
   "metadata": {},
   "outputs": [],
   "source": [
    "model.save('model.h5')"
   ]
  },
  {
   "cell_type": "markdown",
   "metadata": {},
   "source": [
    "# Evaluation"
   ]
  },
  {
   "cell_type": "code",
   "execution_count": 18,
   "metadata": {},
   "outputs": [
    {
     "name": "stdout",
     "output_type": "stream",
     "text": [
      "79/79 [==============================] - 0s 3ms/step - loss: 0.9233 - accuracy: 0.7294\n",
      "Test loss: 0.923336, Test acc: 72.94%\n"
     ]
    }
   ],
   "source": [
    "test_loss, test_accuracy = model.evaluate(X_test, y_test, batch_size=128)\n",
    "print(f'Test loss: {test_loss:.6f}, Test acc: {test_accuracy:.2%}')"
   ]
  },
  {
   "cell_type": "code",
   "execution_count": 19,
   "metadata": {},
   "outputs": [],
   "source": [
    "y_test_pred = model.predict(X_test)"
   ]
  },
  {
   "cell_type": "code",
   "execution_count": 20,
   "metadata": {},
   "outputs": [
    {
     "data": {
      "text/plain": [
       "<sklearn.metrics._plot.confusion_matrix.ConfusionMatrixDisplay at 0x7fca501ca750>"
      ]
     },
     "execution_count": 20,
     "metadata": {},
     "output_type": "execute_result"
    },
    {
     "data": {
      "image/png": "[encoded data removed]",
      "text/plain": [
       "<Figure size 432x288 with 2 Axes>"
      ]
     },
     "metadata": {
      "needs_background": "light"
     },
     "output_type": "display_data"
    }
   ],
   "source": [
    "cmat = confusion_matrix(\n",
    "    y_true=y_test.argmax(axis=1), \n",
    "    y_pred=y_test_pred.argmax(axis=1))\n",
    "ConfusionMatrixDisplay(cmat).plot()"
   ]
  },
  {
   "cell_type": "markdown",
   "metadata": {},
   "source": [
    "# Application"
   ]
  },
  {
   "cell_type": "code",
   "execution_count": 21,
   "metadata": {},
   "outputs": [],
   "source": [
    "def application(idx=None):\n",
    "    if not idx:\n",
    "        idx = np.random.randint(len(X_test))\n",
    "    print('Collected new features as follows:')\n",
    "    plt.imshow(X_test[idx])\n",
    "    plt.show()\n",
    "    names = ['airplane','automobile','bird','cat','deer',\n",
    "                   'dog','frog','horse','ship','truck']\n",
    "    forecasted = model.predict(X_test[idx:idx+1]).argmax()\n",
    "    actual = y_test[idx].argmax()\n",
    "    print(f'\\n{\"CORRECT\" if forecasted==actual else \"WRONG\"}')\n",
    "    print(f'\\nModel forecasted as {forecasted} ({names[forecasted]})')\n",
    "    print(f'\\nActual data should be {actual} ({names[actual]})')"
   ]
  },
  {
   "cell_type": "code",
   "execution_count": 22,
   "metadata": {},
   "outputs": [
    {
     "name": "stdout",
     "output_type": "stream",
     "text": [
      "Collected new features as follows:\n"
     ]
    },
    {
     "data": {
      "image/png": "[encoded data removed]",
      "text/plain": [
       "<Figure size 432x288 with 1 Axes>"
      ]
     },
     "metadata": {
      "needs_background": "light"
     },
     "output_type": "display_data"
    },
    {
     "name": "stdout",
     "output_type": "stream",
     "text": [
      "\n",
      "CORRECT\n",
      "\n",
      "Model forecasted as 8 (ship)\n",
      "\n",
      "Actual data should be 8 (ship)\n"
     ]
    }
   ],
   "source": [
    "application()"
   ]
  }
 ],
 "metadata": {
  "kernelspec": {
   "display_name": "Python 3",
   "language": "python",
   "name": "python3"
  },
  "language_info": {
   "codemirror_mode": {
    "name": "ipython",
    "version": 3
   },
   "file_extension": ".py",
   "mimetype": "text/x-python",
   "name": "python",
   "nbconvert_exporter": "python",
   "pygments_lexer": "ipython3",
   "version": "3.8.5"
  }
 },
 "nbformat": 4,
 "nbformat_minor": 4
}
